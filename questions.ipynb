{
 "cells": [
  {
   "cell_type": "code",
   "execution_count": 1303,
   "metadata": {},
   "outputs": [
    {
     "name": "stdout",
     "output_type": "stream",
     "text": [
      "Emory ID: 2643551\n"
     ]
    }
   ],
   "source": [
    "# Print your Emory ID here\n",
    "print(\"Emory ID: 2643551\")"
   ]
  },
  {
   "cell_type": "code",
   "execution_count": 1304,
   "metadata": {},
   "outputs": [],
   "source": [
    "# Import the necessary libraries and load the data\n",
    "import pandas as pd\n",
    "import matplotlib.pyplot as plt\n",
    "import numpy as np\n",
    "import re as r\n",
    "data = pd.read_csv(\"passwords.csv\")"
   ]
  },
  {
   "cell_type": "markdown",
   "metadata": {},
   "source": [
    "1. An online password attack is when someone tries to hack your account by simply trying a very large number of username/password combinations to access your account. For each `password` in our dataset, the `value` column shows the amount of time it is estimated to take an “online password attack” to hack your account. The column `time_unit` shows the units of that time value (e.g., hours, days, years, etc.). It would be much nicer if our values were of the same units so we can more easily compare the “online password guessing time” for each password. So your first task is to convert all of the values to units of hours (assume the conversion units provided below, e.g., 1 day is 24 hours, 1 week is 168 hours, etc)."
   ]
  },
  {
   "cell_type": "code",
   "execution_count": 1305,
   "metadata": {},
   "outputs": [],
   "source": [
    "# Your answer here \n",
    "\n",
    "units = {\n",
    "    \"seconds\": 1 / 3600,\n",
    "    \"minutes\": 1 / 60,\n",
    "    \"days\": 24,\n",
    "    \"weeks\": 168,\n",
    "    \"months\": 720,\n",
    "    \"years\": 8760,\n",
    "}\n",
    "data['value'] = data.apply(lambda row: row['value'] * units.get(row['time_unit'], 1), axis=1)"
   ]
  },
  {
   "cell_type": "markdown",
   "metadata": {},
   "source": [
    "2. Are there any missing values in the dataset? If so, how many? After you have counted the, please drop them from the dataset."
   ]
  },
  {
   "cell_type": "code",
   "execution_count": 1306,
   "metadata": {},
   "outputs": [
    {
     "name": "stdout",
     "output_type": "stream",
     "text": [
      "Missing values per column:\n",
      " rank                 7\n",
      "password             7\n",
      "category             7\n",
      "value                7\n",
      "time_unit            7\n",
      "offline_crack_sec    7\n",
      "rank_alt             7\n",
      "strength             7\n",
      "font_size            7\n",
      "dtype: int64\n"
     ]
    }
   ],
   "source": [
    "# Your answer here\n",
    "missing_per_column = data.isnull().sum()\n",
    "print(\"Missing values per column:\\n\", missing_per_column)\n",
    "data = data.dropna()"
   ]
  },
  {
   "cell_type": "markdown",
   "metadata": {},
   "source": [
    "3. Which password category has the highest average strength?\n"
   ]
  },
  {
   "cell_type": "code",
   "execution_count": 1307,
   "metadata": {},
   "outputs": [
    {
     "data": {
      "text/plain": [
       "av    14.0\n",
       "Name: nerdy-pop, dtype: float64"
      ]
     },
     "execution_count": 1307,
     "metadata": {},
     "output_type": "execute_result"
    }
   ],
   "source": [
    "# Your answer here\n",
    "average_strength = data.groupby('category').agg(av = ('strength','mean'))\n",
    "highest_value_row = average_strength.loc[average_strength['av'].idxmax()]\n",
    "highest_value_row"
   ]
  },
  {
   "cell_type": "markdown",
   "metadata": {},
   "source": [
    "4. What is the rank of the password 'qwerty'?"
   ]
  },
  {
   "cell_type": "code",
   "execution_count": 1308,
   "metadata": {},
   "outputs": [
    {
     "data": {
      "text/plain": [
       "4    5.0\n",
       "Name: rank_alt, dtype: float64"
      ]
     },
     "execution_count": 1308,
     "metadata": {},
     "output_type": "execute_result"
    }
   ],
   "source": [
    "# Your answer here\n",
    "qwerty_password = \"qwerty\"\n",
    "qwerty = data.query('password == @qwerty_password')\n",
    "qwerty['rank_alt']"
   ]
  },
  {
   "cell_type": "markdown",
   "metadata": {},
   "source": [
    "5. How many passwords have more than 8 characters?"
   ]
  },
  {
   "cell_type": "code",
   "execution_count": 1309,
   "metadata": {},
   "outputs": [
    {
     "data": {
      "text/plain": [
       "1"
      ]
     },
     "execution_count": 1309,
     "metadata": {},
     "output_type": "execute_result"
    }
   ],
   "source": [
    "# Your answer here\n",
    "long_passwords_count = data[data['password'].str.len() > 8].shape[0]\n",
    "long_passwords_count"
   ]
  },
  {
   "cell_type": "markdown",
   "metadata": {},
   "source": [
    "6. How many passwords do not contain a number?"
   ]
  },
  {
   "cell_type": "code",
   "execution_count": 1310,
   "metadata": {},
   "outputs": [
    {
     "data": {
      "text/plain": [
       "446"
      ]
     },
     "execution_count": 1310,
     "metadata": {},
     "output_type": "execute_result"
    }
   ],
   "source": [
    "# Your answer here\n",
    "no_number_passwords_count = data[~data['password'].str.contains(r'\\d', regex = True)].shape[0]\n",
    "no_number_passwords_count"
   ]
  },
  {
   "cell_type": "markdown",
   "metadata": {},
   "source": [
    "7. What is the average time in hours needed to crack these passwords that begin with `123`? How does this compare to the average of all passwords in the dataset?"
   ]
  },
  {
   "cell_type": "code",
   "execution_count": 1311,
   "metadata": {},
   "outputs": [
    {
     "name": "stdout",
     "output_type": "stream",
     "text": [
      "13917.565247227776\n",
      "107.30332438271606\n"
     ]
    }
   ],
   "source": [
    "# Your answer here\n",
    "average_hours_to_crack_123 = data[data['password'].str.startswith(\"123\")]['value'].mean()\n",
    "average_hours_to_crack = data['value'].mean()\n",
    "print(average_hours_to_crack)\n",
    "print(average_hours_to_crack_123)\n",
    "#The one that starts with 123 takes less time to crack on average"
   ]
  },
  {
   "cell_type": "markdown",
   "metadata": {},
   "source": [
    "8. What percentage of passwords are of the `simple-alphanumeric` category?"
   ]
  },
  {
   "cell_type": "code",
   "execution_count": 1312,
   "metadata": {},
   "outputs": [
    {
     "name": "stdout",
     "output_type": "stream",
     "text": [
      "12.2\n"
     ]
    }
   ],
   "source": [
    "# Your answer here\n",
    "a = 'simple-alphanumeric'\n",
    "number_simple_alphanumeric = data.query('category == @a')['category'].count()\n",
    "percentage = (number_simple_alphanumeric/data['password'].count())*100\n",
    "print(percentage)"
   ]
  },
  {
   "cell_type": "markdown",
   "metadata": {},
   "source": [
    "9. How many passwords have a strength rating below 5? What is their percentage?"
   ]
  },
  {
   "cell_type": "code",
   "execution_count": 1313,
   "metadata": {},
   "outputs": [
    {
     "name": "stdout",
     "output_type": "stream",
     "text": [
      "73\n",
      "14.6\n"
     ]
    }
   ],
   "source": [
    "# Your answer here\n",
    "strength_rating_below_5 = data.query('strength < 5')['password'].count()\n",
    "print(strength_rating_below_5)\n",
    "percentage_strength_rating_below_5 = (strength_rating_below_5/data['password'].count())*100\n",
    "print(percentage_strength_rating_below_5)"
   ]
  },
  {
   "cell_type": "markdown",
   "metadata": {},
   "source": [
    "10. What is the most common password in the dataset?"
   ]
  },
  {
   "cell_type": "code",
   "execution_count": 1314,
   "metadata": {},
   "outputs": [
    {
     "data": {
      "text/plain": [
       "'1111'"
      ]
     },
     "execution_count": 1314,
     "metadata": {},
     "output_type": "execute_result"
    }
   ],
   "source": [
    "# Your answer here\n",
    "most_common_password = data['password'].mode()[0]\n",
    "most_common_password"
   ]
  },
  {
   "cell_type": "markdown",
   "metadata": {},
   "source": [
    "11. How many unique passwords are there in each category, and what is their average length?"
   ]
  },
  {
   "cell_type": "code",
   "execution_count": 1315,
   "metadata": {},
   "outputs": [
    {
     "name": "stdout",
     "output_type": "stream",
     "text": [
      "category\n",
      "animal                  29\n",
      "cool-macho              79\n",
      "fluffy                  44\n",
      "food                    11\n",
      "name                   183\n",
      "nerdy-pop               30\n",
      "password-related        15\n",
      "rebellious-rude         11\n",
      "simple-alphanumeric     61\n",
      "sport                   37\n",
      "Name: password, dtype: int64\n",
      "category\n",
      "animal                 6.206897\n",
      "cool-macho             6.253165\n",
      "fluffy                 5.795455\n",
      "food                   6.090909\n",
      "name                   6.218579\n",
      "nerdy-pop              6.633333\n",
      "password-related       6.333333\n",
      "rebellious-rude        6.363636\n",
      "simple-alphanumeric    5.934426\n",
      "sport                  6.513514\n",
      "Name: password, dtype: float64\n"
     ]
    }
   ],
   "source": [
    "# Your answer here\n",
    "unique_passwords_per_category = data.groupby('category')['password'].nunique()\n",
    "print(unique_passwords_per_category)\n",
    "unique_passwords = data.groupby('category')['password'].unique()\n",
    "password_lengths = unique_passwords.apply(lambda passwords: [len(p) for p in passwords])\n",
    "average_length_per_category = password_lengths.apply(lambda lengths: sum(lengths) / len(lengths))\n",
    "print(average_length_per_category)"
   ]
  },
  {
   "cell_type": "markdown",
   "metadata": {},
   "source": [
    "12. What is the median rank and strength for passwords of each length?"
   ]
  },
  {
   "cell_type": "code",
   "execution_count": 1316,
   "metadata": {},
   "outputs": [
    {
     "data": {
      "text/html": [
       "<div>\n",
       "<style scoped>\n",
       "    .dataframe tbody tr th:only-of-type {\n",
       "        vertical-align: middle;\n",
       "    }\n",
       "\n",
       "    .dataframe tbody tr th {\n",
       "        vertical-align: top;\n",
       "    }\n",
       "\n",
       "    .dataframe thead th {\n",
       "        text-align: right;\n",
       "    }\n",
       "</style>\n",
       "<table border=\"1\" class=\"dataframe\">\n",
       "  <thead>\n",
       "    <tr style=\"text-align: right;\">\n",
       "      <th></th>\n",
       "      <th>rank</th>\n",
       "      <th>strength</th>\n",
       "    </tr>\n",
       "    <tr>\n",
       "      <th>password_length</th>\n",
       "      <th></th>\n",
       "      <th></th>\n",
       "    </tr>\n",
       "  </thead>\n",
       "  <tbody>\n",
       "    <tr>\n",
       "      <th>4</th>\n",
       "      <td>326.0</td>\n",
       "      <td>6.0</td>\n",
       "    </tr>\n",
       "    <tr>\n",
       "      <th>5</th>\n",
       "      <td>343.0</td>\n",
       "      <td>7.0</td>\n",
       "    </tr>\n",
       "    <tr>\n",
       "      <th>6</th>\n",
       "      <td>231.0</td>\n",
       "      <td>7.0</td>\n",
       "    </tr>\n",
       "    <tr>\n",
       "      <th>7</th>\n",
       "      <td>222.0</td>\n",
       "      <td>8.0</td>\n",
       "    </tr>\n",
       "    <tr>\n",
       "      <th>8</th>\n",
       "      <td>286.0</td>\n",
       "      <td>8.0</td>\n",
       "    </tr>\n",
       "    <tr>\n",
       "      <th>9</th>\n",
       "      <td>49.0</td>\n",
       "      <td>4.0</td>\n",
       "    </tr>\n",
       "  </tbody>\n",
       "</table>\n",
       "</div>"
      ],
      "text/plain": [
       "                  rank  strength\n",
       "password_length                 \n",
       "4                326.0       6.0\n",
       "5                343.0       7.0\n",
       "6                231.0       7.0\n",
       "7                222.0       8.0\n",
       "8                286.0       8.0\n",
       "9                 49.0       4.0"
      ]
     },
     "execution_count": 1316,
     "metadata": {},
     "output_type": "execute_result"
    }
   ],
   "source": [
    "data['password_length'] = data['password'].str.len()\n",
    "median_rank_strength = data.groupby('password_length').agg({'rank': 'median', 'strength': 'median'})\n",
    "median_rank_strength"
   ]
  },
  {
   "cell_type": "markdown",
   "metadata": {},
   "source": [
    "13. Add a column `strength_label` with values `weak` if strength is below 5, else `strong`. Use a lambda function."
   ]
  },
  {
   "cell_type": "code",
   "execution_count": 1317,
   "metadata": {},
   "outputs": [],
   "source": [
    "# Your answer here\n",
    "data['strength_label'] = data['strength'].apply(lambda x:'weak' if x<5 else 'strong')"
   ]
  },
  {
   "cell_type": "markdown",
   "metadata": {},
   "source": [
    "14. Create a column `high_value` with a value of `True` if value is in the top 10% of values in the dataset."
   ]
  },
  {
   "cell_type": "code",
   "execution_count": 1318,
   "metadata": {},
   "outputs": [],
   "source": [
    "# Your answer here\n",
    "threshold = data['strength'].quantile(0.90)\n",
    "data['high_value'] = data['value'].apply(lambda x: True if x>threshold else False)"
   ]
  },
  {
   "cell_type": "markdown",
   "metadata": {},
   "source": [
    "15. Join all passwords within each `category` into a single string."
   ]
  },
  {
   "cell_type": "code",
   "execution_count": 1319,
   "metadata": {},
   "outputs": [
    {
     "data": {
      "text/html": [
       "<div>\n",
       "<style scoped>\n",
       "    .dataframe tbody tr th:only-of-type {\n",
       "        vertical-align: middle;\n",
       "    }\n",
       "\n",
       "    .dataframe tbody tr th {\n",
       "        vertical-align: top;\n",
       "    }\n",
       "\n",
       "    .dataframe thead th {\n",
       "        text-align: right;\n",
       "    }\n",
       "</style>\n",
       "<table border=\"1\" class=\"dataframe\">\n",
       "  <thead>\n",
       "    <tr style=\"text-align: right;\">\n",
       "      <th></th>\n",
       "      <th>category</th>\n",
       "      <th>password</th>\n",
       "    </tr>\n",
       "  </thead>\n",
       "  <tbody>\n",
       "    <tr>\n",
       "      <th>0</th>\n",
       "      <td>animal</td>\n",
       "      <td>dragonmonkeybigdogfalconphoenixtigerschickenbu...</td>\n",
       "    </tr>\n",
       "    <tr>\n",
       "      <th>1</th>\n",
       "      <td>cool-macho</td>\n",
       "      <td>mustangshadowmasterharleyhunterrangerbusterkil...</td>\n",
       "    </tr>\n",
       "    <tr>\n",
       "      <th>2</th>\n",
       "      <td>fluffy</td>\n",
       "      <td>lovesunshinesilverorangegingersummerprincessdi...</td>\n",
       "    </tr>\n",
       "    <tr>\n",
       "      <th>3</th>\n",
       "      <td>food</td>\n",
       "      <td>peppercheesecoffeebananabuttermuffinhotdogappl...</td>\n",
       "    </tr>\n",
       "    <tr>\n",
       "      <th>4</th>\n",
       "      <td>name</td>\n",
       "      <td>michaeljenniferjordansupermanthomastiggerrober...</td>\n",
       "    </tr>\n",
       "    <tr>\n",
       "      <th>5</th>\n",
       "      <td>nerdy-pop</td>\n",
       "      <td>starwarscomputermerlinmatrixsnoopyboomercompaq...</td>\n",
       "    </tr>\n",
       "    <tr>\n",
       "      <th>6</th>\n",
       "      <td>password-related</td>\n",
       "      <td>passwordletmeintestpassaccessgatewaypleasewelc...</td>\n",
       "    </tr>\n",
       "    <tr>\n",
       "      <th>7</th>\n",
       "      <td>rebellious-rude</td>\n",
       "      <td>bitemefreedomsecretwhateverbadboysexsexbutthea...</td>\n",
       "    </tr>\n",
       "    <tr>\n",
       "      <th>8</th>\n",
       "      <td>simple-alphanumeric</td>\n",
       "      <td>123456123456781234qwerty12345696969abc12311111...</td>\n",
       "    </tr>\n",
       "    <tr>\n",
       "      <th>9</th>\n",
       "      <td>sport</td>\n",
       "      <td>baseballfootballsoccerhockeydallasyankeesgolfe...</td>\n",
       "    </tr>\n",
       "  </tbody>\n",
       "</table>\n",
       "</div>"
      ],
      "text/plain": [
       "              category                                           password\n",
       "0               animal  dragonmonkeybigdogfalconphoenixtigerschickenbu...\n",
       "1           cool-macho  mustangshadowmasterharleyhunterrangerbusterkil...\n",
       "2               fluffy  lovesunshinesilverorangegingersummerprincessdi...\n",
       "3                 food  peppercheesecoffeebananabuttermuffinhotdogappl...\n",
       "4                 name  michaeljenniferjordansupermanthomastiggerrober...\n",
       "5            nerdy-pop  starwarscomputermerlinmatrixsnoopyboomercompaq...\n",
       "6     password-related  passwordletmeintestpassaccessgatewaypleasewelc...\n",
       "7      rebellious-rude  bitemefreedomsecretwhateverbadboysexsexbutthea...\n",
       "8  simple-alphanumeric  123456123456781234qwerty12345696969abc12311111...\n",
       "9                sport  baseballfootballsoccerhockeydallasyankeesgolfe..."
      ]
     },
     "execution_count": 1319,
     "metadata": {},
     "output_type": "execute_result"
    }
   ],
   "source": [
    "# Your answer here\n",
    "joined_passwords_per_category = data.groupby('category')['password'].agg(lambda x: ''.join(x)).reset_index()\n",
    "joined_passwords_per_category"
   ]
  },
  {
   "cell_type": "markdown",
   "metadata": {},
   "source": [
    "**Bonus question 01**: What is the correlation between password length and strength? Create a scatter plot with regression line."
   ]
  },
  {
   "cell_type": "code",
   "execution_count": 1320,
   "metadata": {},
   "outputs": [],
   "source": [
    "# Your answer here"
   ]
  },
  {
   "cell_type": "markdown",
   "metadata": {},
   "source": [
    "**Bonus question 02**: Find all passwords with palindromes."
   ]
  },
  {
   "cell_type": "code",
   "execution_count": 1321,
   "metadata": {},
   "outputs": [],
   "source": [
    "# Your answer here"
   ]
  }
 ],
 "metadata": {
  "kernelspec": {
   "display_name": "Python 3",
   "language": "python",
   "name": "python3"
  },
  "language_info": {
   "codemirror_mode": {
    "name": "ipython",
    "version": 3
   },
   "file_extension": ".py",
   "mimetype": "text/x-python",
   "name": "python",
   "nbconvert_exporter": "python",
   "pygments_lexer": "ipython3",
   "version": "3.11.9"
  }
 },
 "nbformat": 4,
 "nbformat_minor": 2
}
